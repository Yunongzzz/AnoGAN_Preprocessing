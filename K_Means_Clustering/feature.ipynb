{
 "cells": [
  {
   "cell_type": "markdown",
   "metadata": {},
   "source": [
    "## Import Required Packages"
   ]
  },
  {
   "cell_type": "code",
   "execution_count": 81,
   "metadata": {},
   "outputs": [],
   "source": [
    "import tensorflow as tf\n",
    "import tensorflow_addons as tfa\n",
    "import numpy as np\n",
    "import pandas as pd\n",
    "import matplotlib.pyplot as plt\n",
    "import seaborn as sns; sns.set()\n",
    "import sklearn\n",
    "from sklearn.cluster import KMeans\n",
    "from sklearn.metrics import silhouette_score\n",
    "from sklearn import metrics\n",
    "from sklearn.datasets import load_digits\n",
    "from sklearn.decomposition import PCA\n",
    "from sklearn.preprocessing import scale\n",
    "import PIL\n",
    "import datetime\n",
    "import os\n",
    "import random\n",
    "import shutil\n",
    "import time"
   ]
  },
  {
   "cell_type": "markdown",
   "metadata": {},
   "source": [
    "## Load Required File Path"
   ]
  },
  {
   "cell_type": "code",
   "execution_count": 82,
   "metadata": {},
   "outputs": [],
   "source": [
    "all_file = '/.../'\n",
    "test1_l0 = '/.../'\n",
    "test2_l0 = '/.../'\n",
    "test3_l0 = '/.../'\n",
    "test4_l0 = '/.../'\n",
    "test5_l0 = '/.../'\n",
    "test6_l0 = '/.../'"
   ]
  },
  {
   "cell_type": "markdown",
   "metadata": {},
   "source": [
    "## Compute Image Features from Image Array Parsed from TF Record"
   ]
  },
  {
   "cell_type": "code",
   "execution_count": 85,
   "metadata": {},
   "outputs": [],
   "source": [
    "def parse_tf(tf_path):\n",
    "    feature = {'image/height': tf.io.FixedLenFeature([], tf.int64),\n",
    "               'image/width': tf.io.FixedLenFeature([], tf.int64),\n",
    "               'image/format': tf.io.FixedLenFeature([], tf.string),\n",
    "               'image/name': tf.io.FixedLenFeature([], tf.string),\n",
    "               'image/rescale_factor': tf.io.FixedLenFeature([], tf.int64),\n",
    "               'image/encoded': tf.io.FixedLenFeature([], tf.string)}\n",
    "\n",
    "    tfrecord_dataset = tf.data.TFRecordDataset(tf_path)\n",
    "\n",
    "    def _parse_image_function(key):\n",
    "        return tf.io.parse_single_example(key, feature)\n",
    "\n",
    "    pGAN_dataset = tfrecord_dataset.map(_parse_image_function)\n",
    "\n",
    "    imgs = list()\n",
    "    patch_name = list()\n",
    "    for tfrecord_value in pGAN_dataset:\n",
    "        img = tf.io.decode_image(tfrecord_value['image/encoded'])\n",
    "        img = img[:, :, :3]   # trim off alpha channel\n",
    "        imgs.append(img)\n",
    "        img_name = tfrecord_value['image/name']\n",
    "        patch_name.append(img_name)\n",
    "        image_shape = img.shape\n",
    "\n",
    "    return imgs, patch_name, image_shape"
   ]
  },
  {
   "cell_type": "code",
   "execution_count": 86,
   "metadata": {},
   "outputs": [],
   "source": [
    "def customize_resnet(input_shape=(512, 512, 3)):\n",
    "    ## Load the ResNet50 model\n",
    "    resnet50_model = tf.keras.applications.resnet50.ResNet50(include_top=False,weights='imagenet',input_shape=input_shape)\n",
    "    resnet50_model.trainable = False  ## Free Training\n",
    "\n",
    "    ## Create a new Model based on original resnet50 model ended after the 3rd residual block\n",
    "    layer_name = 'conv4_block1_0_conv'\n",
    "    res50 = tf.keras.Model(inputs=resnet50_model.input, outputs=resnet50_model.get_layer(layer_name).output)\n",
    "\n",
    "    ## Add adaptive mean-spatial pooling after the new model\n",
    "    adaptive_mean_spatial_layer = tf.keras.layers.GlobalAvgPool2D()\n",
    "    \n",
    "    return res50, adaptive_mean_spatial_layer"
   ]
  },
  {
   "cell_type": "code",
   "execution_count": 87,
   "metadata": {},
   "outputs": [],
   "source": [
    "def get_img_feature(img_array, res50, adaptive_mean_spatial_layer):\n",
    "    Image_Features = list()\n",
    "    for i in range(len(img_array)):\n",
    "        image_np = np.array(img_array[i])\n",
    "        image_batch = np.expand_dims(image_np, axis=0)\n",
    "        image_patch = tf.keras.applications.resnet50.preprocess_input(image_batch.copy())\n",
    "        predicts = res50.predict(image_patch)\n",
    "        features = adaptive_mean_spatial_layer(predicts)\n",
    "\n",
    "        img_features = features.numpy()\n",
    "        img_features = tf.convert_to_tensor(img_features)\n",
    "        \n",
    "        Image_Features.append(img_features)\n",
    "    \n",
    "    # preprocessing Image Features to match the required input shape of K Means clustering fit method\n",
    "    # default shape be (#img_patches, 1024)\n",
    "    Image_Features_Flat = [tf.reshape(i, (img_features.shape[1], )).numpy() for i in Image_Features]\n",
    "    Image_Features_Flat = np.array(Image_Features_Flat)\n",
    "    \n",
    "    return Image_Features, Image_Features_Flat"
   ]
  },
  {
   "cell_type": "code",
   "execution_count": 88,
   "metadata": {},
   "outputs": [],
   "source": [
    "imgs_1, patch_name_1, image_shape_1 = parse_tf(test1_l0)\n",
    "imgs_2, patch_name_2, image_shape_2 = parse_tf(test2_l0)\n",
    "imgs_3, patch_name_3, image_shape_3 = parse_tf(test3_l0)\n",
    "imgs_4, patch_name_4, image_shape_4 = parse_tf(test4_l0)\n",
    "imgs_5, patch_name_5, image_shape_5 = parse_tf(test5_l0)\n",
    "imgs_6, patch_name_6, image_shape_6 = parse_tf(test6_l0)"
   ]
  },
  {
   "cell_type": "code",
   "execution_count": 89,
   "metadata": {},
   "outputs": [],
   "source": [
    "res50, adaptive_mean_spatial_layer = customize_resnet(input_shape=image_shape_1)"
   ]
  },
  {
   "cell_type": "code",
   "execution_count": 91,
   "metadata": {},
   "outputs": [],
   "source": [
    "Image_Features_1, IFF1 = get_img_feature(img_array=imgs_1, res50=res50, adaptive_mean_spatial_layer=adaptive_mean_spatial_layer)\n",
    "Image_Features_2, IFF2 = get_img_feature(img_array=imgs_2, res50=res50, adaptive_mean_spatial_layer=adaptive_mean_spatial_layer)\n",
    "Image_Features_3, IFF3 = get_img_feature(img_array=imgs_3, res50=res50, adaptive_mean_spatial_layer=adaptive_mean_spatial_layer)\n",
    "Image_Features_4, IFF4 = get_img_feature(img_array=imgs_4, res50=res50, adaptive_mean_spatial_layer=adaptive_mean_spatial_layer)\n",
    "Image_Features_5, IFF5 = get_img_feature(img_array=imgs_5, res50=res50, adaptive_mean_spatial_layer=adaptive_mean_spatial_layer)\n",
    "Image_Features_6, IFF6 = get_img_feature(img_array=imgs_6, res50=res50, adaptive_mean_spatial_layer=adaptive_mean_spatial_layer)"
   ]
  },
  {
   "cell_type": "markdown",
   "metadata": {},
   "source": [
    "## Plot Image Feature Distribution"
   ]
  },
  {
   "cell_type": "code",
   "execution_count": 101,
   "metadata": {},
   "outputs": [],
   "source": [
    "I_feature1 = [tf.reshape(i, (image_shape_1[0], )).numpy() for i in Image_Features_1]"
   ]
  },
  {
   "cell_type": "code",
   "execution_count": 123,
   "metadata": {},
   "outputs": [],
   "source": [
    "dense_fig_1 = sns.displot(I_feature1)\n",
    "dense_fig_1.savefig('density Plot 1.png')"
   ]
  },
  {
   "cell_type": "markdown",
   "metadata": {},
   "source": [
    "## K Means Clustering"
   ]
  },
  {
   "cell_type": "code",
   "execution_count": 54,
   "metadata": {},
   "outputs": [],
   "source": [
    "def optimize_kmean(x, init_k=2, max_k=10):\n",
    "    silh_score = list()\n",
    "    \n",
    "    for k in range(init_k, max_k+1):\n",
    "        kmeans = KMeans(n_clusters=k).fit(x)\n",
    "        labels = kmeans.labels_\n",
    "        silh = silhouette_score(x, labels, metric='euclidean')\n",
    "        silh_score.append(silh)\n",
    "    \n",
    "    idm_silh = silh_score.index(max(silh_score))\n",
    "    optim_k = init_k + idm_silh\n",
    "    \n",
    "    return silh_score, optim_k"
   ]
  },
  {
   "cell_type": "markdown",
   "metadata": {},
   "source": [
    "### Test1 - Find Optimized K on 6 SVS Slides at Level 0 in Image Feature Space"
   ]
  },
  {
   "cell_type": "code",
   "execution_count": 10,
   "metadata": {},
   "outputs": [],
   "source": [
    "silh_score_1, optim_k_1 = optimize_kmean(x=IFF1, init_k=2, max_k=10)\n",
    "silh_score_2, optim_k_2 = optimize_kmean(x=IFF2, init_k=2, max_k=10)\n",
    "silh_score_3, optim_k_3 = optimize_kmean(x=IFF3, init_k=2, max_k=10)\n",
    "silh_score_4, optim_k_4 = optimize_kmean(x=IFF4, init_k=2, max_k=10)\n",
    "silh_score_5, optim_k_5 = optimize_kmean(x=IFF5, init_k=2, max_k=10)\n",
    "silh_score_6, optim_k_6 = optimize_kmean(x=IFF6, init_k=2, max_k=10)"
   ]
  },
  {
   "cell_type": "markdown",
   "metadata": {},
   "source": [
    "### Test2 - PCA -> Optimizing K Inherited Test1 in Image Feature Space"
   ]
  },
  {
   "cell_type": "code",
   "execution_count": 125,
   "metadata": {},
   "outputs": [],
   "source": [
    "pca = PCA(n_components=10)"
   ]
  },
  {
   "cell_type": "code",
   "execution_count": 126,
   "metadata": {},
   "outputs": [],
   "source": [
    "pca_c = pca.fit(IFF1)"
   ]
  },
  {
   "cell_type": "code",
   "execution_count": 127,
   "metadata": {},
   "outputs": [],
   "source": [
    "x = pca_c.components_[0]"
   ]
  },
  {
   "cell_type": "code",
   "execution_count": 128,
   "metadata": {},
   "outputs": [],
   "source": [
    "y = pca_c.components_[1]"
   ]
  },
  {
   "cell_type": "code",
   "execution_count": 130,
   "metadata": {},
   "outputs": [
    {
     "name": "stderr",
     "output_type": "stream",
     "text": [
      "/research/bsi/projects/PI/tertiary/Hart_Steven_m087494/s211408.DigitalPathology/Quincy/Anaconda/conda_env/clam/lib/python3.6/site-packages/seaborn/_decorators.py:43: FutureWarning: Pass the following variables as keyword args: x, y. From version 0.12, the only valid positional argument will be `data`, and passing other arguments without an explicit keyword will result in an error or misinterpretation.\n",
      "  FutureWarning\n"
     ]
    },
    {
     "data": {
      "image/png": "[encoded data removed]",
      "text/plain": [
       "<Figure size 432x288 with 1 Axes>"
      ]
     },
     "metadata": {},
     "output_type": "display_data"
    }
   ],
   "source": [
    "sns.scatterplot(x,y)\n",
    "plt.title('Slides 1')\n",
    "plt.xlabel('PCA1_Feature_Space')\n",
    "plt.ylabel('PCA2_Feature_Space')\n",
    "plt.savefig('PCA_fs_s1.png')"
   ]
  },
  {
   "cell_type": "code",
   "execution_count": 11,
   "metadata": {},
   "outputs": [],
   "source": [
    "PCA_F1 = pca.fit_transform(IFF1)\n",
    "PCA_F2 = pca.fit_transform(IFF2)\n",
    "PCA_F3 = pca.fit_transform(IFF3)\n",
    "PCA_F4 = pca.fit_transform(IFF4)\n",
    "PCA_F5 = pca.fit_transform(IFF5)\n",
    "PCA_F6 = pca.fit_transform(IFF6)"
   ]
  },
  {
   "cell_type": "code",
   "execution_count": 13,
   "metadata": {},
   "outputs": [],
   "source": [
    "ss1, ok1 = optimize_kmean(x=PCA_F1, init_k=2, max_k=10)\n",
    "ss2, ok2 = optimize_kmean(x=PCA_F2, init_k=2, max_k=10)\n",
    "ss3, ok3 = optimize_kmean(x=PCA_F3, init_k=2, max_k=10)\n",
    "ss4, ok4 = optimize_kmean(x=PCA_F4, init_k=2, max_k=10)\n",
    "ss5, ok5 = optimize_kmean(x=PCA_F5, init_k=2, max_k=10)\n",
    "ss6, ok6 = optimize_kmean(x=PCA_F6, init_k=2, max_k=10)"
   ]
  },
  {
   "cell_type": "markdown",
   "metadata": {},
   "source": [
    "### Test3 - Optimizing K on 6 SVS Slides at Level 5 (i.e. 32 x 32) in Image Patch Space"
   ]
  },
  {
   "cell_type": "code",
   "execution_count": 12,
   "metadata": {},
   "outputs": [],
   "source": [
    "test1_l5 = '/.../'\n",
    "test2_l5 = '/.../'\n",
    "test3_l5 = '/.../'\n",
    "test4_l5 = '/.../'\n",
    "test5_l5 = '/.../'\n",
    "test6_l5 = '/.../'"
   ]
  },
  {
   "cell_type": "code",
   "execution_count": 13,
   "metadata": {},
   "outputs": [],
   "source": [
    "imgs1, image_shape1 = parse_tf(test1_l5)\n",
    "imgs2, image_shape2 = parse_tf(test2_l5)\n",
    "imgs3, image_shape3 = parse_tf(test3_l5)\n",
    "imgs4, image_shape4 = parse_tf(test4_l5)\n",
    "imgs5, image_shape5 = parse_tf(test5_l5)\n",
    "imgs6, image_shape6 = parse_tf(test6_l5)"
   ]
  },
  {
   "cell_type": "code",
   "execution_count": 41,
   "metadata": {},
   "outputs": [],
   "source": [
    "new_shape = np.prod(imgs1[0].shape)"
   ]
  },
  {
   "cell_type": "code",
   "execution_count": 42,
   "metadata": {},
   "outputs": [],
   "source": [
    "def img_reshape(imgs, new_shape):\n",
    "    imgs = [tf.reshape(i, (new_shape, )).numpy() for i in imgs]\n",
    "    imgs = np.array(imgs)\n",
    "    \n",
    "    return imgs"
   ]
  },
  {
   "cell_type": "code",
   "execution_count": 43,
   "metadata": {},
   "outputs": [],
   "source": [
    "imgs1 = img_reshape(imgs1, new_shape)\n",
    "imgs2 = img_reshape(imgs2, new_shape)\n",
    "imgs3 = img_reshape(imgs3, new_shape)\n",
    "imgs4 = img_reshape(imgs4, new_shape)\n",
    "imgs5 = img_reshape(imgs5, new_shape)\n",
    "imgs6 = img_reshape(imgs6, new_shape)"
   ]
  },
  {
   "cell_type": "code",
   "execution_count": 131,
   "metadata": {},
   "outputs": [],
   "source": [
    "pca_p = PCA(n_components=10)"
   ]
  },
  {
   "cell_type": "code",
   "execution_count": 132,
   "metadata": {},
   "outputs": [],
   "source": [
    "pca_pc = pca_p.fit(imgs1)"
   ]
  },
  {
   "cell_type": "code",
   "execution_count": 133,
   "metadata": {},
   "outputs": [],
   "source": [
    "x = pca_pc.components_[0]\n",
    "y = pca_pc.components_[1]"
   ]
  },
  {
   "cell_type": "code",
   "execution_count": 134,
   "metadata": {},
   "outputs": [
    {
     "name": "stderr",
     "output_type": "stream",
     "text": [
      "/research/bsi/projects/PI/tertiary/Hart_Steven_m087494/s211408.DigitalPathology/Quincy/Anaconda/conda_env/clam/lib/python3.6/site-packages/seaborn/_decorators.py:43: FutureWarning: Pass the following variables as keyword args: x, y. From version 0.12, the only valid positional argument will be `data`, and passing other arguments without an explicit keyword will result in an error or misinterpretation.\n",
      "  FutureWarning\n"
     ]
    },
    {
     "data": {
      "image/png": "[encoded data removed]",
      "text/plain": [
       "<Figure size 432x288 with 1 Axes>"
      ]
     },
     "metadata": {},
     "output_type": "display_data"
    }
   ],
   "source": [
    "sns.scatterplot(x,y)\n",
    "plt.title('Slide 1')\n",
    "plt.xlabel('PCA1_Patch_Space')\n",
    "plt.ylabel('PCA2_Patch_Space')\n",
    "plt.savefig('PCA_ps_s1.png')"
   ]
  },
  {
   "cell_type": "code",
   "execution_count": 55,
   "metadata": {},
   "outputs": [],
   "source": [
    "silh_score_51, optim_k_51 = optimize_kmean(x=imgs1, init_k=2, max_k=10)\n",
    "silh_score_52, optim_k_52 = optimize_kmean(x=imgs2, init_k=2, max_k=10)\n",
    "silh_score_53, optim_k_53 = optimize_kmean(x=imgs3, init_k=2, max_k=10)\n",
    "silh_score_54, optim_k_54 = optimize_kmean(x=imgs4, init_k=2, max_k=10)\n",
    "silh_score_55, optim_k_55 = optimize_kmean(x=imgs5, init_k=2, max_k=10)\n",
    "silh_score_56, optim_k_56 = optimize_kmean(x=imgs6, init_k=2, max_k=10)"
   ]
  },
  {
   "cell_type": "code",
   "execution_count": 22,
   "metadata": {},
   "outputs": [],
   "source": [
    "def ok_clustering(x, optim_k):\n",
    "    kmean_labels = list()\n",
    "    kmeans = KMeans(n_clusters=optim_k).fit(x)\n",
    "    \n",
    "    for i in kmeans.labels_:\n",
    "        kmean_labels.append(i)\n",
    "    \n",
    "    return kmean_labels"
   ]
  },
  {
   "cell_type": "code",
   "execution_count": 25,
   "metadata": {},
   "outputs": [],
   "source": [
    "kmean_labels = ok_clustering(x=IFF1, optim_k=optim_k_51)"
   ]
  },
  {
   "cell_type": "markdown",
   "metadata": {},
   "source": [
    "## Test 4 - Force K=50 for clustering"
   ]
  },
  {
   "cell_type": "code",
   "execution_count": 65,
   "metadata": {},
   "outputs": [
    {
     "data": {
      "text/plain": [
       "KMeans(n_clusters=50)"
      ]
     },
     "execution_count": 65,
     "metadata": {},
     "output_type": "execute_result"
    }
   ],
   "source": [
    "kmeans_50 = KMeans(n_clusters=50)\n",
    "kmeans_50.fit(IFF1)"
   ]
  },
  {
   "cell_type": "code",
   "execution_count": 104,
   "metadata": {},
   "outputs": [],
   "source": [
    "patch_id_1 = list()\n",
    "for i in range(len(IFF1)):\n",
    "    patch_id_1.append(i)"
   ]
  },
  {
   "cell_type": "code",
   "execution_count": 115,
   "metadata": {},
   "outputs": [],
   "source": [
    "patch_names_1 = [i.numpy().decode('utf-8') for i in patch_name_1]"
   ]
  },
  {
   "cell_type": "code",
   "execution_count": 116,
   "metadata": {},
   "outputs": [],
   "source": [
    "cluster_id_1 = list()\n",
    "for i in kmeans_50.labels_:\n",
    "    cluster_id_1.append(i)"
   ]
  },
  {
   "cell_type": "code",
   "execution_count": 117,
   "metadata": {},
   "outputs": [],
   "source": [
    "df_50_1 = pd.DataFrame(list(zip(patch_id_1, patch_names_1, cluster_id_1)),\n",
    "              columns=['patch_id', 'patch_name', 'cluster_id'])"
   ]
  },
  {
   "cell_type": "code",
   "execution_count": 118,
   "metadata": {},
   "outputs": [
    {
     "data": {
      "text/html": [
       "<div>\n",
       "<style scoped>\n",
       "    .dataframe tbody tr th:only-of-type {\n",
       "        vertical-align: middle;\n",
       "    }\n",
       "\n",
       "    .dataframe tbody tr th {\n",
       "        vertical-align: top;\n",
       "    }\n",
       "\n",
       "    .dataframe thead th {\n",
       "        text-align: right;\n",
       "    }\n",
       "</style>\n",
       "<table border=\"1\" class=\"dataframe\">\n",
       "  <thead>\n",
       "    <tr style=\"text-align: right;\">\n",
       "      <th></th>\n",
       "      <th>patch_id</th>\n",
       "      <th>patch_name</th>\n",
       "      <th>cluster_id</th>\n",
       "    </tr>\n",
       "  </thead>\n",
       "  <tbody>\n",
       "    <tr>\n",
       "      <th>0</th>\n",
       "      <td>0</td>\n",
       "      <td>183533.svs_x_1024_2048_y_5120_6144.png</td>\n",
       "      <td>25</td>\n",
       "    </tr>\n",
       "    <tr>\n",
       "      <th>1</th>\n",
       "      <td>1</td>\n",
       "      <td>183533.svs_x_1024_2048_y_6144_7168.png</td>\n",
       "      <td>2</td>\n",
       "    </tr>\n",
       "    <tr>\n",
       "      <th>2</th>\n",
       "      <td>2</td>\n",
       "      <td>183533.svs_x_1024_2048_y_9216_10240.png</td>\n",
       "      <td>2</td>\n",
       "    </tr>\n",
       "    <tr>\n",
       "      <th>3</th>\n",
       "      <td>3</td>\n",
       "      <td>183533.svs_x_1024_2048_y_10240_11264.png</td>\n",
       "      <td>25</td>\n",
       "    </tr>\n",
       "    <tr>\n",
       "      <th>4</th>\n",
       "      <td>4</td>\n",
       "      <td>183533.svs_x_14336_15360_y_10240_11264.png</td>\n",
       "      <td>5</td>\n",
       "    </tr>\n",
       "    <tr>\n",
       "      <th>...</th>\n",
       "      <td>...</td>\n",
       "      <td>...</td>\n",
       "      <td>...</td>\n",
       "    </tr>\n",
       "    <tr>\n",
       "      <th>1871</th>\n",
       "      <td>1871</td>\n",
       "      <td>183533.svs_x_154624_155648_y_44032_45056.png</td>\n",
       "      <td>46</td>\n",
       "    </tr>\n",
       "    <tr>\n",
       "      <th>1872</th>\n",
       "      <td>1872</td>\n",
       "      <td>183533.svs_x_154624_155648_y_45056_46080.png</td>\n",
       "      <td>34</td>\n",
       "    </tr>\n",
       "    <tr>\n",
       "      <th>1873</th>\n",
       "      <td>1873</td>\n",
       "      <td>183533.svs_x_154624_155648_y_46080_47104.png</td>\n",
       "      <td>46</td>\n",
       "    </tr>\n",
       "    <tr>\n",
       "      <th>1874</th>\n",
       "      <td>1874</td>\n",
       "      <td>183533.svs_x_154624_155648_y_47104_48128.png</td>\n",
       "      <td>7</td>\n",
       "    </tr>\n",
       "    <tr>\n",
       "      <th>1875</th>\n",
       "      <td>1875</td>\n",
       "      <td>183533.svs_x_154624_155648_y_48128_49152.png</td>\n",
       "      <td>21</td>\n",
       "    </tr>\n",
       "  </tbody>\n",
       "</table>\n",
       "<p>1876 rows × 3 columns</p>\n",
       "</div>"
      ],
      "text/plain": [
       "      patch_id                                    patch_name  cluster_id\n",
       "0            0        183533.svs_x_1024_2048_y_5120_6144.png          25\n",
       "1            1        183533.svs_x_1024_2048_y_6144_7168.png           2\n",
       "2            2       183533.svs_x_1024_2048_y_9216_10240.png           2\n",
       "3            3      183533.svs_x_1024_2048_y_10240_11264.png          25\n",
       "4            4    183533.svs_x_14336_15360_y_10240_11264.png           5\n",
       "...        ...                                           ...         ...\n",
       "1871      1871  183533.svs_x_154624_155648_y_44032_45056.png          46\n",
       "1872      1872  183533.svs_x_154624_155648_y_45056_46080.png          34\n",
       "1873      1873  183533.svs_x_154624_155648_y_46080_47104.png          46\n",
       "1874      1874  183533.svs_x_154624_155648_y_47104_48128.png           7\n",
       "1875      1875  183533.svs_x_154624_155648_y_48128_49152.png          21\n",
       "\n",
       "[1876 rows x 3 columns]"
      ]
     },
     "execution_count": 118,
     "metadata": {},
     "output_type": "execute_result"
    }
   ],
   "source": [
    "df_50_1"
   ]
  },
  {
   "cell_type": "code",
   "execution_count": 119,
   "metadata": {},
   "outputs": [],
   "source": [
    "df_50_1.to_csv('k_50_1_clustering.txt', sep='\\t', index=False)"
   ]
  },
  {
   "cell_type": "code",
   "execution_count": 181,
   "metadata": {},
   "outputs": [],
   "source": [
    "patch_path = '/.../'"
   ]
  },
  {
   "cell_type": "code",
   "execution_count": 182,
   "metadata": {},
   "outputs": [],
   "source": [
    "dest_path = '/.../'"
   ]
  },
  {
   "cell_type": "code",
   "execution_count": 204,
   "metadata": {},
   "outputs": [],
   "source": [
    "def clustering_check(patch_path, dest_path):\n",
    "    for i in range(50):\n",
    "        for j in df_50_1['cluster_id']:\n",
    "            if j == i:\n",
    "                for k in pd.DataFrame(df_50_1['patch_id'][df_50_1['cluster_id'] == j])['patch_id']:\n",
    "                    name = os.listdir(patch_path)[k]\n",
    "                    file = os.path.join(patch_path, name)\n",
    "                    dest_dir = os.path.join(dest_path, 'Cluster_' + str(j))\n",
    "                    if os.path.exists(dest_dir) == False:\n",
    "                        os.mkdir(os.path.join(dest_path, 'Cluster_' + str(j)))\n",
    "                    shutil.copy(file, dest_dir)"
   ]
  },
  {
   "cell_type": "code",
   "execution_count": 205,
   "metadata": {},
   "outputs": [],
   "source": [
    "clustering_check(patch_path=patch_path, dest_path=dest_path)"
   ]
  },
  {
   "cell_type": "code",
   "execution_count": null,
   "metadata": {},
   "outputs": [],
   "source": []
  }
 ],
 "metadata": {
  "kernelspec": {
   "display_name": "Python 3",
   "language": "python",
   "name": "python3"
  },
  "language_info": {
   "codemirror_mode": {
    "name": "ipython",
    "version": 3
   },
   "file_extension": ".py",
   "mimetype": "text/x-python",
   "name": "python",
   "nbconvert_exporter": "python",
   "pygments_lexer": "ipython3",
   "version": "3.6.11"
  }
 },
 "nbformat": 4,
 "nbformat_minor": 4
}